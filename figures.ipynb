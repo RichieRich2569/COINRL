{
 "cells": [
  {
   "cell_type": "markdown",
   "metadata": {},
   "source": [
    "File for all figures in the paper."
   ]
  },
  {
   "cell_type": "code",
   "execution_count": 26,
   "metadata": {},
   "outputs": [
    {
     "name": "stdout",
     "output_type": "stream",
     "text": [
      "The autoreload extension is already loaded. To reload it, use:\n",
      "  %reload_ext autoreload\n"
     ]
    }
   ],
   "source": [
    "# Imports\n",
    "import os\n",
    "import numpy as np\n",
    "import matplotlib.pyplot as plt\n",
    "import gymnasium as gym\n",
    "import multiprocess as mp\n",
    "\n",
    "from coin import COIN\n",
    "from environments import CustomMountainCarEnv\n",
    "from rl import QLearningAgent, COINQLearningAgent\n",
    "\n",
    "%matplotlib inline\n",
    "%load_ext autoreload\n",
    "%autoreload 2"
   ]
  },
  {
   "cell_type": "markdown",
   "metadata": {},
   "source": [
    "# Figure 1: Contextualisation and Clustering\n",
    "\n",
    "## Plot effect of contextual policies on a training environment"
   ]
  },
  {
   "cell_type": "code",
   "execution_count": 27,
   "metadata": {},
   "outputs": [],
   "source": [
    "# Set scale factors for testing\n",
    "sf = np.concatenate([\n",
    "    0.0*np.ones((500, )), \n",
    "    1.0*np.ones((500, )),\n",
    "    1.4*np.ones((500, )),\n",
    "    0.0*np.ones((500, )),\n",
    "    1.0*np.ones((500, )),\n",
    "    1.6*np.ones((500, ))\n",
    "    ])\n",
    "\n",
    "train = False # Set to True to train the models, otherwise load saved values"
   ]
  },
  {
   "cell_type": "markdown",
   "metadata": {},
   "source": [
    "Generate rewards for basic no-context model."
   ]
  },
  {
   "cell_type": "code",
   "execution_count": null,
   "metadata": {},
   "outputs": [],
   "source": [
    "def run_single_rep(rep_id, sf):\n",
    "    \"\"\"\n",
    "    Runs one repetition of training across all amplitudes in sf.\n",
    "    Returns the list of rewards.\n",
    "    \"\"\"\n",
    "    # Imports for multiprocessing\n",
    "    from environments import CustomMountainCarEnv\n",
    "    from rl import QLearningAgent\n",
    "    # Create a fresh agent and environment inside each process\n",
    "\n",
    "    env = CustomMountainCarEnv(amplitude=1.0, render_mode=\"none\")\n",
    "    agent = QLearningAgent(\n",
    "        env=env,\n",
    "        num_position_bins=30,\n",
    "        num_velocity_bins=30,\n",
    "        alpha=0.1,\n",
    "        gamma=0.99,\n",
    "        epsilon=1.0,\n",
    "        epsilon_decay=0.999,\n",
    "        min_epsilon=0.01\n",
    "    )\n",
    "\n",
    "    rewards_for_this_rep = []\n",
    "    for i, amplitude in enumerate(sf):\n",
    "        # Create the environment for each amplitude\n",
    "        env = CustomMountainCarEnv(amplitude=amplitude, render_mode=\"none\")\n",
    "        \n",
    "        # Train the agent in the current context\n",
    "        training_reward = agent.train_step(env=env, max_steps_per_episode=1000)\n",
    "        rewards_for_this_rep.append(training_reward)\n",
    "\n",
    "        if (i + 1) % 500 == 0:\n",
    "            print(f\"Repetition {rep_id}, Amplitude {amplitude}: Training reward = {training_reward}\")\n",
    "\n",
    "    return rewards_for_this_rep\n",
    "\n",
    "REWARDS_PATH = \"models/fig1a_rewards_basic.npy\"\n",
    "if train:\n",
    "    # Number of repetitions and number of parallel processes:\n",
    "    n_reps = 100\n",
    "    n_processes = 17\n",
    "        \n",
    "    # Create a Pool of workers\n",
    "    with mp.Pool(processes=n_processes) as pool:\n",
    "        # Map each repetition to the function run_single_rep\n",
    "        all_results = pool.starmap(run_single_rep, [(rep, sf) for rep in range(n_reps)])\n",
    "        \n",
    "    # all_results is a list of lists: one list of rewards for each repetition\n",
    "    # Convert to a NumPy array, then average over axis=0 to get mean reward per amplitude\n",
    "    all_results_array = np.array(all_results)  # shape: (n_reps, len(sf))\n",
    "    rewards_basic = np.mean(all_results_array, axis=0)\n",
    "\n",
    "    # Save results\n",
    "    np.save(REWARDS_PATH, rewards_basic)\n",
    "    print(f\"Training complete. Rewards saved to '{REWARDS_PATH}'.\")\n",
    "else:\n",
    "    # Load the saved results from the training\n",
    "    if os.path.exists(REWARDS_PATH):\n",
    "        rewards_basic = np.load(REWARDS_PATH)\n",
    "        print(f\"Loaded rewards from '{REWARDS_PATH}'.\")\n",
    "    else:\n",
    "        raise FileNotFoundError(f\"No saved rewards found at '{REWARDS_PATH}'.\")"
   ]
  },
  {
   "cell_type": "markdown",
   "metadata": {},
   "source": [
    "Train COIN Model"
   ]
  },
  {
   "cell_type": "code",
   "execution_count": 54,
   "metadata": {},
   "outputs": [
    {
     "name": "stdout",
     "output_type": "stream",
     "text": [
      "Simulting the COIN model\n"
     ]
    }
   ],
   "source": [
    "# Initialize contextual model from COIN\n",
    "\n",
    "# We store probability p(c|y,...) here and not p(c|...) where ... are previous values\n",
    "store = [\n",
    "    \"responsibilities\",\n",
    "    \"state_feedback\",\n",
    "]\n",
    "\n",
    "coin_model = COIN(\n",
    "    prior_precision_drift=5.0,\n",
    "    store=store,\n",
    "    runs=1,\n",
    "    max_cores=1\n",
    ") # use default parameters for now\n",
    "coin_model.perturbations = sf\n",
    "\n",
    "output = coin_model.simulate_coin()\n",
    "\n",
    "resp = output[\"runs\"][0][\"responsibilities\"]\n",
    "p_context = np.sum(resp, axis=1)\n",
    "p_context = p_context / np.sum(p_context, axis=0, keepdims=True)"
   ]
  },
  {
   "cell_type": "code",
   "execution_count": 55,
   "metadata": {},
   "outputs": [
    {
     "data": {
      "image/png": "[encoded data removed]",
      "text/plain": [
       "<Figure size 1000x500 with 1 Axes>"
      ]
     },
     "metadata": {},
     "output_type": "display_data"
    },
    {
     "data": {
      "image/png": "[encoded data removed]",
      "text/plain": [
       "<Figure size 1000x500 with 1 Axes>"
      ]
     },
     "metadata": {},
     "output_type": "display_data"
    }
   ],
   "source": [
    "plt.figure(figsize=(10, 5))\n",
    "plt.plot(sf, label=\"Amplitude\")\n",
    "\n",
    "state_feedback = output[\"runs\"][0][\"state_feedback\"]\n",
    "plt.scatter(\n",
    "    np.arange(len(sf)), state_feedback, label=\"State Feedback\", color=\"orange\", alpha=0.5\n",
    ")\n",
    "plt.show()\n",
    "\n",
    "plt.figure(figsize=(10, 5))\n",
    "plt.plot(p_context.T, label=\"p(c|y)\")\n",
    "plt.show()"
   ]
  },
  {
   "cell_type": "code",
   "execution_count": 18,
   "metadata": {},
   "outputs": [
    {
     "name": "stdout",
     "output_type": "stream",
     "text": [
      "Episode 500, Training reward: -259.16\n",
      "Episode 1000, Training reward: -834.844\n",
      "Episode 1500, Training reward: -968.038\n",
      "Episode 2000, Training reward: -188.364\n",
      "Episode 2500, Training reward: -390.384\n",
      "Episode 3000, Training reward: -744.536\n"
     ]
    }
   ],
   "source": [
    "# Now we train our Q-learning agent (COIN)\n",
    "# Begin training loop\n",
    "num_episodes = p_context.shape[1]\n",
    "C = p_context.shape[0]\n",
    "\n",
    "# Create the COIN Q-learning agent\n",
    "env = CustomMountainCarEnv(amplitude=1.0, render_mode=\"none\")\n",
    "agent = COINQLearningAgent(\n",
    "    env=env,\n",
    "    max_contexts=C,\n",
    "    num_position_bins=30,\n",
    "    num_velocity_bins=30,\n",
    "    alpha=0.1,\n",
    "    gamma=0.99,\n",
    "    epsilon=1.0,\n",
    "    epsilon_decay=0.999\n",
    ")\n",
    "\n",
    "rewards_coin = []\n",
    "\n",
    "for i in range(0,num_episodes):\n",
    "    # Create the MountainCar environment with the true amplitude\n",
    "    env = CustomMountainCarEnv(amplitude=sf[i], render_mode=\"none\")\n",
    "\n",
    "    # Train the agent in the current context\n",
    "    training_reward = agent.train_step(\n",
    "        env=env,\n",
    "        p_context=p_context[:,i],\n",
    "        max_steps_per_episode=1000,\n",
    "    )\n",
    "\n",
    "    rewards_coin.append(training_reward)\n",
    "\n",
    "    # Print the average training reward every 500 episodes\n",
    "    if ((i+1)%500 == 0):\n",
    "        print(f\"Episode {i+1}, Training reward: {np.mean(rewards_coin[-500:])}\")"
   ]
  },
  {
   "cell_type": "markdown",
   "metadata": {},
   "source": [
    "Train Oracle Model"
   ]
  },
  {
   "cell_type": "code",
   "execution_count": 21,
   "metadata": {},
   "outputs": [
    {
     "name": "stdout",
     "output_type": "stream",
     "text": [
      "Episode 500, Training reward: -259.846\n",
      "Episode 1000, Training reward: -820.274\n",
      "Episode 1500, Training reward: -952.63\n",
      "Episode 2000, Training reward: -173.964\n",
      "Episode 2500, Training reward: -374.906\n",
      "Episode 3000, Training reward: -990.66\n"
     ]
    }
   ],
   "source": [
    "# Oracle model has an agent for each context\n",
    "env = CustomMountainCarEnv(amplitude=1.0, render_mode=\"none\")\n",
    "agents = [QLearningAgent(\n",
    "    env=env,\n",
    "    num_position_bins=30,\n",
    "    num_velocity_bins=30,\n",
    "    alpha=0.1,\n",
    "    gamma=0.99,\n",
    "    epsilon=1.0,\n",
    "    epsilon_decay=0.999,\n",
    "    min_epsilon=0.01\n",
    ") for _ in range(C)]\n",
    "\n",
    "true_contexts = np.concatenate([\n",
    "    np.ones((500, ), dtype=int), \n",
    "    2*np.ones((500, ), dtype=int),\n",
    "    3*np.ones((500, ), dtype=int),\n",
    "    np.ones((500, ), dtype=int),\n",
    "    2*np.ones((500, ), dtype=int),\n",
    "    4*np.ones((500, ), dtype=int)\n",
    "    ])\n",
    "\n",
    "rewards_oracle = []\n",
    "\n",
    "for i in range(0,np.size(sf)):\n",
    "    # Create the MountainCar environment with the true amplitude\n",
    "    env = CustomMountainCarEnv(amplitude=sf[i], render_mode=\"none\")\n",
    "\n",
    "    # Train the agent in the current context\n",
    "    agent = agents[true_contexts[i]-1]\n",
    "    training_reward = agent.train_step(\n",
    "        env=env,\n",
    "        max_steps_per_episode=1000\n",
    "    )\n",
    "\n",
    "    rewards_oracle.append(training_reward)\n",
    "\n",
    "    # Print the average training reward every 500 episodes\n",
    "    if ((i+1)%500 == 0):\n",
    "        print(f\"Episode {i+1}, Training reward: {np.mean(rewards_oracle[-500:])}\")"
   ]
  }
 ],
 "metadata": {
  "kernelspec": {
   "display_name": ".venv",
   "language": "python",
   "name": "python3"
  },
  "language_info": {
   "codemirror_mode": {
    "name": "ipython",
    "version": 3
   },
   "file_extension": ".py",
   "mimetype": "text/x-python",
   "name": "python",
   "nbconvert_exporter": "python",
   "pygments_lexer": "ipython3",
   "version": "3.12.0"
  }
 },
 "nbformat": 4,
 "nbformat_minor": 2
}
